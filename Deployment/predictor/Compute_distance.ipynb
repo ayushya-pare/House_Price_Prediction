{
 "cells": [
  {
   "cell_type": "code",
   "execution_count": 11,
   "metadata": {},
   "outputs": [
    {
     "name": "stdout",
     "output_type": "stream",
     "text": [
      "Requirement already satisfied: geopy in /opt/anaconda3/lib/python3.11/site-packages (2.4.1)\n",
      "Requirement already satisfied: geographiclib<3,>=1.52 in /opt/anaconda3/lib/python3.11/site-packages (from geopy) (2.0)\n",
      "Note: you may need to restart the kernel to use updated packages.\n"
     ]
    }
   ],
   "source": [
    "pip install geopy\n"
   ]
  },
  {
   "cell_type": "code",
   "execution_count": null,
   "metadata": {},
   "outputs": [],
   "source": [
    "pip install openrouteservice"
   ]
  },
  {
   "cell_type": "code",
   "execution_count": 20,
   "metadata": {},
   "outputs": [],
   "source": [
    "import numpy as np\n",
    "import pandas as pd\n",
    "import matplotlib.pyplot as plt\n",
    "import seaborn as sns\n",
    "%matplotlib inline"
   ]
  },
  {
   "cell_type": "code",
   "execution_count": 105,
   "metadata": {},
   "outputs": [],
   "source": [
    "import requests\n",
    "from geopy.geocoders import Nominatim\n",
    "import openrouteservice\n"
   ]
  },
  {
   "cell_type": "code",
   "execution_count": 14,
   "metadata": {},
   "outputs": [],
   "source": [
    "address = \"Calle Serrano 60,28001, Madrid\"\n",
    "ORS_API_KEY = '5b3ce3597851110001cf6248bc3b029ec4b443c7bca64b6d21cd1538'\n"
   ]
  },
  {
   "cell_type": "code",
   "execution_count": null,
   "metadata": {},
   "outputs": [],
   "source": [
    "\n",
    "pip install opencage"
   ]
  },
  {
   "cell_type": "code",
   "execution_count": 80,
   "metadata": {},
   "outputs": [],
   "source": [
    "import pandas as pd\n",
    "import requests\n",
    "from opencage.geocoder import OpenCageGeocode\n",
    "from geopy.distance import geodesic\n",
    "\n",
    "# Function to get coordinates using OpenCage Geocoder\n",
    "def get_coordinates(address, api_key):\n",
    "    geocoder = OpenCageGeocode(api_key)\n",
    "    result = geocoder.geocode(address)\n",
    "    if result and len(result):\n",
    "        return result[0]['geometry']['lat'], result[0]['geometry']['lng']\n",
    "    else:\n",
    "        raise ValueError(\"Address not found.\")\n",
    "\n",
    "# Function to calculate the distance between two coordinates\n",
    "def calculate_distance(coord1, coord2):\n",
    "    return geodesic(coord1, coord2).kilometers\n",
    "\n",
    "# Function to find the nearest train station using OpenStreetMap Overpass API\n",
    "def get_nearest_train_station(lat, lon):\n",
    "    overpass_url = \"http://overpass-api.de/api/interpreter\"\n",
    "    overpass_query = f\"\"\"\n",
    "    [out:json];\n",
    "    node\n",
    "      [\"public_transport\"=\"platform\"][\"bus\"=\"yes\"]\n",
    "      (around:5000,{lat},{lon});\n",
    "    out body;\n",
    "    \"\"\"\n",
    "    response = requests.get(overpass_url, params={'data': overpass_query})\n",
    "    data = response.json()\n",
    "\n",
    "    if not data['elements']:\n",
    "        raise ValueError(\"No public transport found within 5km radius.\")\n",
    "\n",
    "    # Find the nearest train station\n",
    "    nearest_station = None\n",
    "    min_distance = float('inf')\n",
    "    for element in data['elements']:\n",
    "        station_coords = (element['lat'], element['lon'])\n",
    "        distance = geodesic((lat, lon), station_coords).kilometers\n",
    "        if distance < min_distance:\n",
    "            min_distance = distance\n",
    "            nearest_station = element\n",
    "\n",
    "    return nearest_station, min_distance\n",
    "\n",
    "# Function to calculate all distances for a given address\n",
    "def calculate_distances(address, api_key):\n",
    "    # Predefined coordinates\n",
    "    city_center = (40.416775, -3.703790)  # Puerta del Sol, Madrid\n",
    "    castellana = (40.448466, -3.690612)  # Castellana, Madrid\n",
    "\n",
    "    try:\n",
    "        # Get coordinates for the given address\n",
    "        lat, lon = get_coordinates(address, api_key)\n",
    "        address_coords = (lat, lon)\n",
    "\n",
    "        # Calculate distances\n",
    "        distance_to_city_center = calculate_distance(address_coords, city_center)\n",
    "        distance_to_castellana = calculate_distance(address_coords, castellana)\n",
    "\n",
    "        # Find the nearest train station\n",
    "        _, distance_to_station = get_nearest_train_station(lat, lon)\n",
    "\n",
    "        return distance_to_city_center, distance_to_castellana, distance_to_station\n",
    "    except ValueError as e:\n",
    "        print(f\"Error for address '{address}': {e}\")\n",
    "        return None, None, None\n",
    "\n",
    "# Function to apply to DataFrame\n",
    "def add_distance_columns(df, address_column, api_key):\n",
    "    distances = df[address_column].apply(lambda x: calculate_distances(x, api_key))\n",
    "    df[['Distance to City Center', 'Distance to Castellana', 'Distance to Nearest Public']] = pd.DataFrame(distances.tolist(), index=df.index)\n",
    "    return df\n",
    "\n",
    "# Example usage\n",
    "#address = \"Calle Serrano 60, 28001, Madrid\"\n",
    "#api_key = \"YOUR_OPENCAGE_API_KEY\"  # Replace with your OpenCage API key\n",
    "\n",
    "\n"
   ]
  },
  {
   "cell_type": "code",
   "execution_count": null,
   "metadata": {},
   "outputs": [],
   "source": []
  },
  {
   "cell_type": "code",
   "execution_count": 89,
   "metadata": {},
   "outputs": [
    {
     "data": {
      "text/plain": [
       "(127947, 26)"
      ]
     },
     "execution_count": 89,
     "metadata": {},
     "output_type": "execute_result"
    }
   ],
   "source": [
    "# Load the dataset\n",
    "df = pd.read_csv('scraped_data_cleaned_Emanuela_22Jul24.csv')\n",
    "#df = df[df['m2']<150]\n",
    "#df = df[[column for column in df.columns if column not in ['price_m2_Q4_2023', 'price_m2_Q3_2023', 'price_m2_Q1_2024']]]\n",
    "\n",
    "#df_unseen = df.iloc[:1000]\n",
    "\n",
    "#df = df.drop(df_unseen.index)\n",
    "\n",
    "df.shape"
   ]
  },
  {
   "cell_type": "code",
   "execution_count": 87,
   "metadata": {},
   "outputs": [
    {
     "data": {
      "text/html": [
       "<div>\n",
       "<style scoped>\n",
       "    .dataframe tbody tr th:only-of-type {\n",
       "        vertical-align: middle;\n",
       "    }\n",
       "\n",
       "    .dataframe tbody tr th {\n",
       "        vertical-align: top;\n",
       "    }\n",
       "\n",
       "    .dataframe thead th {\n",
       "        text-align: right;\n",
       "    }\n",
       "</style>\n",
       "<table border=\"1\" class=\"dataframe\">\n",
       "  <thead>\n",
       "    <tr style=\"text-align: right;\">\n",
       "      <th></th>\n",
       "      <th>price</th>\n",
       "      <th>has_orientation_south</th>\n",
       "      <th>has_orientation_north</th>\n",
       "      <th>has_orientation_west</th>\n",
       "      <th>has_orientation_east</th>\n",
       "      <th>rooms</th>\n",
       "      <th>bathrooms</th>\n",
       "      <th>has_terrace</th>\n",
       "      <th>m2</th>\n",
       "      <th>elevator</th>\n",
       "      <th>...</th>\n",
       "      <th>built_year</th>\n",
       "      <th>has_pool</th>\n",
       "      <th>has_ac</th>\n",
       "      <th>distance_city_center</th>\n",
       "      <th>distance_metro</th>\n",
       "      <th>distance_castellana</th>\n",
       "      <th>price_m2_Q2_2024</th>\n",
       "      <th>district_affordability</th>\n",
       "      <th>CAGR</th>\n",
       "      <th>airbnb_price_per_night</th>\n",
       "    </tr>\n",
       "  </thead>\n",
       "  <tbody>\n",
       "    <tr>\n",
       "      <th>1294</th>\n",
       "      <td>345000.0</td>\n",
       "      <td>1.0</td>\n",
       "      <td>0.0</td>\n",
       "      <td>0.0</td>\n",
       "      <td>0.0</td>\n",
       "      <td>1</td>\n",
       "      <td>1.0</td>\n",
       "      <td>0.0</td>\n",
       "      <td>64.0</td>\n",
       "      <td>1</td>\n",
       "      <td>...</td>\n",
       "      <td>2003.0</td>\n",
       "      <td>1.0</td>\n",
       "      <td>1.0</td>\n",
       "      <td>NaN</td>\n",
       "      <td>NaN</td>\n",
       "      <td>NaN</td>\n",
       "      <td>3993</td>\n",
       "      <td>45.5</td>\n",
       "      <td>4.8</td>\n",
       "      <td>100.125000</td>\n",
       "    </tr>\n",
       "    <tr>\n",
       "      <th>1295</th>\n",
       "      <td>1215000.0</td>\n",
       "      <td>0.0</td>\n",
       "      <td>0.0</td>\n",
       "      <td>0.0</td>\n",
       "      <td>1.0</td>\n",
       "      <td>2</td>\n",
       "      <td>2.0</td>\n",
       "      <td>0.0</td>\n",
       "      <td>81.0</td>\n",
       "      <td>1</td>\n",
       "      <td>...</td>\n",
       "      <td>NaN</td>\n",
       "      <td>0.0</td>\n",
       "      <td>1.0</td>\n",
       "      <td>NaN</td>\n",
       "      <td>NaN</td>\n",
       "      <td>NaN</td>\n",
       "      <td>6062</td>\n",
       "      <td>48.4</td>\n",
       "      <td>5.9</td>\n",
       "      <td>265.809524</td>\n",
       "    </tr>\n",
       "  </tbody>\n",
       "</table>\n",
       "<p>2 rows × 23 columns</p>\n",
       "</div>"
      ],
      "text/plain": [
       "          price  has_orientation_south  has_orientation_north  \\\n",
       "1294   345000.0                    1.0                    0.0   \n",
       "1295  1215000.0                    0.0                    0.0   \n",
       "\n",
       "      has_orientation_west  has_orientation_east  rooms  bathrooms  \\\n",
       "1294                   0.0                   0.0      1        1.0   \n",
       "1295                   0.0                   1.0      2        2.0   \n",
       "\n",
       "      has_terrace    m2  elevator  ...  built_year has_pool has_ac  \\\n",
       "1294          0.0  64.0         1  ...      2003.0      1.0    1.0   \n",
       "1295          0.0  81.0         1  ...         NaN      0.0    1.0   \n",
       "\n",
       "      distance_city_center  distance_metro  distance_castellana  \\\n",
       "1294                   NaN             NaN                  NaN   \n",
       "1295                   NaN             NaN                  NaN   \n",
       "\n",
       "      price_m2_Q2_2024  district_affordability  CAGR  airbnb_price_per_night  \n",
       "1294              3993                    45.5   4.8              100.125000  \n",
       "1295              6062                    48.4   5.9              265.809524  \n",
       "\n",
       "[2 rows x 23 columns]"
      ]
     },
     "execution_count": 87,
     "metadata": {},
     "output_type": "execute_result"
    }
   ],
   "source": [
    "df.head(2)"
   ]
  },
  {
   "cell_type": "code",
   "execution_count": 88,
   "metadata": {},
   "outputs": [
    {
     "data": {
      "text/plain": [
       "Index(['price', 'has_orientation_south', 'has_orientation_north',\n",
       "       'has_orientation_west', 'has_orientation_east', 'rooms', 'bathrooms',\n",
       "       'has_terrace', 'm2', 'elevator', 'garage', 'neighbourhood', 'district',\n",
       "       'built_year', 'has_pool', 'has_ac', 'distance_city_center',\n",
       "       'distance_metro', 'distance_castellana', 'price_m2_Q2_2024',\n",
       "       'district_affordability', 'CAGR', 'airbnb_price_per_night'],\n",
       "      dtype='object')"
      ]
     },
     "execution_count": 88,
     "metadata": {},
     "output_type": "execute_result"
    }
   ],
   "source": [
    "df.columns"
   ]
  },
  {
   "cell_type": "code",
   "execution_count": null,
   "metadata": {},
   "outputs": [],
   "source": [
    "# Add distance columns\n",
    "api_key = \"46f6ec6a67a04a279a29e10a9ae7b28a\"  # Replace with your OpenCage API key\n",
    "df = add_distance_columns(df, 'address', api_key)"
   ]
  },
  {
   "cell_type": "code",
   "execution_count": 83,
   "metadata": {},
   "outputs": [
    {
     "data": {
      "text/html": [
       "<div>\n",
       "<style scoped>\n",
       "    .dataframe tbody tr th:only-of-type {\n",
       "        vertical-align: middle;\n",
       "    }\n",
       "\n",
       "    .dataframe tbody tr th {\n",
       "        vertical-align: top;\n",
       "    }\n",
       "\n",
       "    .dataframe thead th {\n",
       "        text-align: right;\n",
       "    }\n",
       "</style>\n",
       "<table border=\"1\" class=\"dataframe\">\n",
       "  <thead>\n",
       "    <tr style=\"text-align: right;\">\n",
       "      <th></th>\n",
       "      <th>address</th>\n",
       "      <th>Distance to City Center</th>\n",
       "      <th>Distance to Castellana</th>\n",
       "      <th>Distance to Nearest Public</th>\n",
       "    </tr>\n",
       "  </thead>\n",
       "  <tbody>\n",
       "    <tr>\n",
       "      <th>0</th>\n",
       "      <td>Calle Serrano 60, 28001, Madrid</td>\n",
       "      <td>1.960056</td>\n",
       "      <td>2.206531</td>\n",
       "      <td>0.091622</td>\n",
       "    </tr>\n",
       "    <tr>\n",
       "      <th>1</th>\n",
       "      <td>Gran Via, 28013, Madrid</td>\n",
       "      <td>0.526635</td>\n",
       "      <td>3.360576</td>\n",
       "      <td>0.054283</td>\n",
       "    </tr>\n",
       "  </tbody>\n",
       "</table>\n",
       "</div>"
      ],
      "text/plain": [
       "                           address  Distance to City Center  \\\n",
       "0  Calle Serrano 60, 28001, Madrid                 1.960056   \n",
       "1          Gran Via, 28013, Madrid                 0.526635   \n",
       "\n",
       "   Distance to Castellana  Distance to Nearest Public  \n",
       "0                2.206531                    0.091622  \n",
       "1                3.360576                    0.054283  "
      ]
     },
     "execution_count": 83,
     "metadata": {},
     "output_type": "execute_result"
    }
   ],
   "source": [
    "df"
   ]
  },
  {
   "cell_type": "code",
   "execution_count": 101,
   "metadata": {},
   "outputs": [],
   "source": [
    "import requests\n",
    "from opencage.geocoder import OpenCageGeocode\n",
    "from geopy.distance import geodesic\n",
    "\n",
    "# Hardcoded OpenCage API key\n",
    "API_KEY = \"46f6ec6a67a04a279a29e10a9ae7b28a\"  \n",
    "\n",
    "# Function to get coordinates using OpenCage Geocoder\n",
    "def get_coordinates(address, api_key):\n",
    "    geocoder = OpenCageGeocode(api_key)\n",
    "    result = geocoder.geocode(address)\n",
    "    if result and len(result):\n",
    "        return result[0]['geometry']['lat'], result[0]['geometry']['lng']\n",
    "    else:\n",
    "        raise ValueError(\"Address not found.\")\n",
    "\n",
    "# Function to calculate the distance between two coordinates\n",
    "def calculate_distance(coord1, coord2):\n",
    "    return geodesic(coord1, coord2).kilometers\n",
    "\n",
    "# Function to find the nearest tram station using OpenStreetMap Overpass API\n",
    "def get_nearest_tram_station(lat, lon):\n",
    "    overpass_url = \"http://overpass-api.de/api/interpreter\"\n",
    "    overpass_query = f\"\"\"\n",
    "    [out:json];\n",
    "    node\n",
    "      [\"public_transport\"=\"platform\"][\"bus\"=\"yes\"]\n",
    "      (around:5000,{lat},{lon});\n",
    "    out body;\n",
    "    \"\"\"\n",
    "    response = requests.get(overpass_url, params={'data': overpass_query})\n",
    "    data = response.json()\n",
    "\n",
    "    if not data['elements']:\n",
    "        raise ValueError(\"No tram stations found within 5km radius.\")\n",
    "\n",
    "    # Find the nearest tram station\n",
    "    nearest_station = None\n",
    "    min_distance = float('inf')\n",
    "    for element in data['elements']:\n",
    "        station_coords = (element['lat'], element['lon'])\n",
    "        distance = geodesic((lat, lon), station_coords).kilometers\n",
    "        if distance < min_distance:\n",
    "            min_distance = distance\n",
    "            nearest_station = element\n",
    "\n",
    "    return nearest_station, min_distance\n",
    "\n",
    "def calculate_distances(address):#,street, postal_code, city):\n",
    "#def calculate_distances(street, postal_code, city):\n",
    "    #address = f\"{street}, {postal_code}, {city}\"\n",
    "    \n",
    "    # Predefined coordinates\n",
    "    city_center = (40.416775, -3.703790)  # Puerta del Sol, Madrid\n",
    "    castellana = (40.448466, -3.690612)  # Castellana, Madrid\n",
    "\n",
    "    try:\n",
    "        # Get coordinates for the given address\n",
    "        lat, lon = get_coordinates(address, API_KEY)\n",
    "        address_coords = (lat, lon)\n",
    "\n",
    "        # Calculate distances\n",
    "        distance_to_city_center = calculate_distance(address_coords, city_center)\n",
    "        distance_to_castellana = calculate_distance(address_coords, castellana)\n",
    "\n",
    "        # Find the nearest tram station\n",
    "        _, distance_to_station = get_nearest_tram_station(lat, lon)\n",
    "\n",
    "        return {\n",
    "            \"distance_city_center\": distance_to_city_center,\n",
    "            \"distance_castellana\": distance_to_castellana,\n",
    "            \"distance_metro\": distance_to_station\n",
    "        }\n",
    "\n",
    "    except ValueError as e:\n",
    "        print(f\"Error for address '{address}': {e}\")\n",
    "        return None\n",
    "\n",
    "\n"
   ]
  },
  {
   "cell_type": "code",
   "execution_count": 102,
   "metadata": {},
   "outputs": [
    {
     "name": "stdout",
     "output_type": "stream",
     "text": [
      "distance_city_center: 1.9600564527428441\n",
      "distance_castellana: 2.2065305089437808\n",
      "distance_metro: 0.09162243556217249\n"
     ]
    }
   ],
   "source": [
    "# Example usage\n",
    "\n",
    "address = \"Calle Serrano 60,28001, Madrid\"\n",
    "#street = \"Calle Serrano 60\"\n",
    "#postal_code = \"28001\"\n",
    "#city = \"Madrid\"\n",
    "#distances = calculate_distances(street, postal_code, city)\n",
    "distances = calculate_distances(address)\n",
    "if distances:\n",
    "    for key, value in distances.items():\n",
    "        print(f\"{key}: {value}\")"
   ]
  },
  {
   "cell_type": "code",
   "execution_count": 103,
   "metadata": {},
   "outputs": [
    {
     "data": {
      "text/plain": [
       "'Calle Serrano 60, 28001, Madrid'"
      ]
     },
     "execution_count": 103,
     "metadata": {},
     "output_type": "execute_result"
    }
   ],
   "source": [
    "street = \"Calle Serrano 60\"\n",
    "postal_code = \"28001\"\n",
    "city = \"Madrid\"\n",
    "address = f\"{street}, {postal_code}, {city}\"\n",
    "address"
   ]
  },
  {
   "cell_type": "code",
   "execution_count": 109,
   "metadata": {},
   "outputs": [],
   "source": [
    "from opencage.geocoder import OpenCageGeocode"
   ]
  },
  {
   "cell_type": "code",
   "execution_count": 111,
   "metadata": {},
   "outputs": [
    {
     "ename": "TypeError",
     "evalue": "OpenCageGeocode.geocode() missing 1 required positional argument: 'query'",
     "output_type": "error",
     "traceback": [
      "\u001b[0;31m---------------------------------------------------------------------------\u001b[0m",
      "\u001b[0;31mTypeError\u001b[0m                                 Traceback (most recent call last)",
      "Cell \u001b[0;32mIn[111], line 1\u001b[0m\n\u001b[0;32m----> 1\u001b[0m result \u001b[38;5;241m=\u001b[39m OpenCageGeocode\u001b[38;5;241m.\u001b[39mgeocode(address)\n\u001b[1;32m      2\u001b[0m result\n",
      "\u001b[0;31mTypeError\u001b[0m: OpenCageGeocode.geocode() missing 1 required positional argument: 'query'"
     ]
    }
   ],
   "source": [
    "result = OpenCageGeocode.geocode(address)\n",
    "result\n"
   ]
  },
  {
   "cell_type": "code",
   "execution_count": 139,
   "metadata": {},
   "outputs": [
    {
     "name": "stdout",
     "output_type": "stream",
     "text": [
      "[{'annotations': {'DMS': {'lat': \"40° 25' 0.60348'' N\", 'lng': \"3° 42' 42.99480'' W\"}, 'MGRS': '30TVK3959974266', 'Maidenhead': 'IN80dk40na', 'Mercator': {'x': -413211.605, 'y': 4898992.911}, 'NUTS': {'NUTS0': {'code': 'ES'}, 'NUTS1': {'code': 'ES3'}, 'NUTS2': {'code': 'ES30'}, 'NUTS3': {'code': 'ES300'}}, 'OSM': {'edit_url': 'https://www.openstreetmap.org/edit?way=7988358#map=17/40.41683/-3.71194', 'note_url': 'https://www.openstreetmap.org/note/new#map=17/40.41683/-3.71194&layers=N', 'url': 'https://www.openstreetmap.org/?mlat=40.41683&mlon=-3.71194#map=17/40.41683/-3.71194'}, 'UN_M49': {'regions': {'ES': '724', 'EUROPE': '150', 'SOUTHERN_EUROPE': '039', 'WORLD': '001'}, 'statistical_groupings': ['MEDC']}, 'callingcode': 34, 'currency': {'alternate_symbols': [], 'decimal_mark': ',', 'html_entity': '€', 'iso_code': 'EUR', 'iso_numeric': '978', 'name': 'Euro', 'smallest_denomination': 1, 'subunit': 'Cent', 'subunit_to_unit': 100, 'symbol': '€', 'symbol_first': 0, 'thousands_separator': '.'}, 'flag': '🇪🇸', 'geohash': 'ezjmgt9j17yxwj9gen6k', 'qibla': 103.96, 'roadinfo': {'drive_on': 'right', 'road': 'Calle de Noblejas', 'road_type': 'living_street', 'speed_in': 'km/h'}, 'sun': {'rise': {'apparent': 1722143400, 'astronomical': 1722136740, 'civil': 1722141540, 'nautical': 1722139260}, 'set': {'apparent': 1722195120, 'astronomical': 1722201780, 'civil': 1722196980, 'nautical': 1722199260}}, 'timezone': {'name': 'Europe/Madrid', 'now_in_dst': 1, 'offset_sec': 7200, 'offset_string': '+0200', 'short_name': 'CEST'}, 'what3words': {'words': 'dramatic.trouser.likes'}}, 'bounds': {'northeast': {'lat': 40.4168607, 'lng': -3.7119041}, 'southwest': {'lat': 40.4168002, 'lng': -3.7128809}}, 'components': {'ISO_3166-1_alpha-2': 'ES', 'ISO_3166-1_alpha-3': 'ESP', 'ISO_3166-2': ['ES-MD'], '_category': 'road', '_normalized_city': 'Madrid', '_type': 'road', 'city': 'Madrid', 'continent': 'Europe', 'country': 'Spain', 'country_code': 'es', 'neighbourhood': 'Barrio de la Latina', 'political_union': 'European Union', 'postcode': '28013', 'quarter': 'Palacio', 'road': 'Calle de Noblejas', 'road_type': 'living_street', 'state': 'Madrid'}, 'confidence': 9, 'formatted': 'Calle de Noblejas, 28013 Madrid, Spain', 'geometry': {'lat': 40.4168343, 'lng': -3.711943}}, {'annotations': {'DMS': {'lat': \"40° 24' 59.40000'' N\", 'lng': \"3° 42' 9.36000'' W\"}, 'MGRS': '30TVK4039274223', 'Maidenhead': 'IN80dj59qx', 'Mercator': {'x': -412171.547, 'y': 4898944.222}, 'NUTS': {'NUTS0': {'code': 'ES'}, 'NUTS1': {'code': 'ES3'}, 'NUTS2': {'code': 'ES30'}, 'NUTS3': {'code': 'ES300'}}, 'OSM': {'note_url': 'https://www.openstreetmap.org/note/new#map=17/40.41650/-3.70260&layers=N', 'url': 'https://www.openstreetmap.org/?mlat=40.41650&mlon=-3.70260#map=17/40.41650/-3.70260'}, 'UN_M49': {'regions': {'ES': '724', 'EUROPE': '150', 'SOUTHERN_EUROPE': '039', 'WORLD': '001'}, 'statistical_groupings': ['MEDC']}, 'callingcode': 34, 'currency': {'alternate_symbols': [], 'decimal_mark': ',', 'html_entity': '€', 'iso_code': 'EUR', 'iso_numeric': '978', 'name': 'Euro', 'smallest_denomination': 1, 'subunit': 'Cent', 'subunit_to_unit': 100, 'symbol': '€', 'symbol_first': 0, 'thousands_separator': '.'}, 'flag': '🇪🇸', 'geohash': 'ezjmgtxg5jtm6xzn68dv', 'qibla': 103.97, 'roadinfo': {'drive_on': 'right', 'speed_in': 'km/h'}, 'sun': {'rise': {'apparent': 1722143400, 'astronomical': 1722136740, 'civil': 1722141540, 'nautical': 1722139260}, 'set': {'apparent': 1722195120, 'astronomical': 1722201780, 'civil': 1722196980, 'nautical': 1722199260}}, 'timezone': {'name': 'Europe/Madrid', 'now_in_dst': 1, 'offset_sec': 7200, 'offset_string': '+0200', 'short_name': 'CEST'}, 'what3words': {'words': 'lively.zapped.wagers'}}, 'components': {'ISO_3166-1_alpha-2': 'ES', 'ISO_3166-1_alpha-3': 'ESP', '_category': 'postcode', '_type': 'postcode', 'continent': 'Europe', 'country': 'Spain', 'country_code': 'es', 'political_union': 'European Union', 'postcode': '28013'}, 'confidence': 7, 'formatted': '28013, Spain', 'geometry': {'lat': 40.4165, 'lng': -3.7026}}]\n",
      "District or Neighborhood not found.\n"
     ]
    }
   ],
   "source": [
    "from opencage.geocoder import OpenCageGeocode\n",
    "\n",
    "# OpenCage API key\n",
    "API_KEY = '46f6ec6a67a04a279a29e10a9ae7b28a'  # Replace with your actual OpenCage API key\n",
    "\n",
    "def get_district_and_neighborhood(address, api_key):\n",
    "    geocoder = OpenCageGeocode(api_key)\n",
    "    result = geocoder.geocode(address)\n",
    "    \n",
    "    if result and len(result):\n",
    "        components = result[0]['components']\n",
    "        neighborhood = components.get('quarter')\n",
    "        district = components.get('suburb')\n",
    "        print(result)\n",
    "        return district, neighborhood\n",
    "    return None, None\n",
    "\n",
    "# Example address\n",
    "street = \"C. de Noblejas\"\n",
    "postal_code = \"28013\"\n",
    "city = \"Madrid\"\n",
    "address = f\"{street}, {postal_code}, {city}\"\n",
    "\n",
    "# Get district and neighborhood\n",
    "district, neighborhood = get_district_and_neighborhood(address, API_KEY)\n",
    "\n",
    "# Print district and neighborhood\n",
    "if district and neighborhood:\n",
    "    print(f\"District: {district}, Neighborhood: {neighborhood}\")\n",
    "else:\n",
    "    print(\"District or Neighborhood not found.\")\n"
   ]
  },
  {
   "cell_type": "code",
   "execution_count": 141,
   "metadata": {},
   "outputs": [
    {
     "data": {
      "text/plain": [
       "647000"
      ]
     },
     "execution_count": 141,
     "metadata": {},
     "output_type": "execute_result"
    }
   ],
   "source": [
    "round(646700, -3)"
   ]
  },
  {
   "cell_type": "code",
   "execution_count": null,
   "metadata": {},
   "outputs": [],
   "source": []
  }
 ],
 "metadata": {
  "kernelspec": {
   "display_name": "constructor",
   "language": "python",
   "name": "constructor"
  },
  "language_info": {
   "codemirror_mode": {
    "name": "ipython",
    "version": 3
   },
   "file_extension": ".py",
   "mimetype": "text/x-python",
   "name": "python",
   "nbconvert_exporter": "python",
   "pygments_lexer": "ipython3",
   "version": "3.11.8"
  }
 },
 "nbformat": 4,
 "nbformat_minor": 2
}
